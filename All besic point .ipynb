{
 "cells": [
  {
   "cell_type": "markdown",
   "id": "da55b102-b8b9-4480-991f-f50244779541",
   "metadata": {},
   "source": [
    "Variable,Data types,Types of operators,Type conversion and type casting,input in python"
   ]
  },
  {
   "cell_type": "code",
   "execution_count": null,
   "id": "5434c3e5-a864-4bbf-835c-7f423d8e638a",
   "metadata": {},
   "outputs": [],
   "source": []
  },
  {
   "cell_type": "markdown",
   "id": "f1367974-6477-4d7d-beb5-d6dc283e99e4",
   "metadata": {},
   "source": [
    "Variable"
   ]
  },
  {
   "cell_type": "code",
   "execution_count": 2,
   "id": "323810d8-cd8a-4a1c-980d-0c3496b5f6c0",
   "metadata": {},
   "outputs": [
    {
     "data": {
      "text/plain": [
       "' A variable is a name give to a memory location in a program '"
      ]
     },
     "execution_count": 2,
     "metadata": {},
     "output_type": "execute_result"
    }
   ],
   "source": [
    "''' A variable is a name give to a memory location in a program '''\n",
    "# do nat a useing keywords in variable"
   ]
  },
  {
   "cell_type": "code",
   "execution_count": 4,
   "id": "2fc78a8b-7e64-40ee-ade9-51b247fdd498",
   "metadata": {},
   "outputs": [
    {
     "name": "stdout",
     "output_type": "stream",
     "text": [
      "name harshal\n",
      "age 22\n",
      "place hydrabad\n"
     ]
    }
   ],
   "source": [
    "\n",
    "name = 'harshal'     # name is variable and memory location and \"harshal\" is v value\n",
    "age = 22             # age is variable ade memory location and \"22\" is v value\n",
    "place = 'hydrabad'  # place is variable and memory location and \"hydrabad\" is v value\n",
    "\n",
    "print('name', name)\n",
    "print('age', age)\n",
    "print('place', place)"
   ]
  },
  {
   "cell_type": "code",
   "execution_count": null,
   "id": "3f489e1f-9da9-4241-a583-aa360325ad64",
   "metadata": {},
   "outputs": [],
   "source": []
  },
  {
   "cell_type": "code",
   "execution_count": 8,
   "id": "a7111c6b-eedf-4351-9385-07ce509a1d57",
   "metadata": {},
   "outputs": [
    {
     "name": "stdout",
     "output_type": "stream",
     "text": [
      "name vishal\n",
      "age 21\n",
      "city aurangbad\n"
     ]
    }
   ],
   "source": [
    "name='vishal'    # name is memory location and variable <------> vishal is variable (value)\n",
    "age=21\n",
    "city='aurangbad'\n",
    "\n",
    "print('name',name)\n",
    "print('age',age)\n",
    "print('city',city)"
   ]
  },
  {
   "cell_type": "code",
   "execution_count": null,
   "id": "d66c431e-9f4c-4a49-9407-4a0602d5d249",
   "metadata": {},
   "outputs": [],
   "source": []
  },
  {
   "cell_type": "code",
   "execution_count": 10,
   "id": "1446e2c5-3111-4958-8da2-b71cfdb04784",
   "metadata": {},
   "outputs": [
    {
     "name": "stdout",
     "output_type": "stream",
     "text": [
      "Priyanka\n",
      "24\n",
      "hydrabad\n"
     ]
    }
   ],
   "source": [
    "name='Priyanka'\n",
    "age=24\n",
    "city='hydrabad'\n",
    "\n",
    "print(name)\n",
    "print(age)\n",
    "print(city)"
   ]
  },
  {
   "cell_type": "code",
   "execution_count": 17,
   "id": "4bbef58f-31f4-4872-a970-f36bb31a5db8",
   "metadata": {},
   "outputs": [],
   "source": [
    "#hhhg"
   ]
  },
  {
   "cell_type": "markdown",
   "id": "6b6fa419-bbc7-4b5e-a247-cb0c2412248c",
   "metadata": {},
   "source": [
    "Data types "
   ]
  },
  {
   "cell_type": "code",
   "execution_count": 21,
   "id": "dd339b8a-f4c7-4b87-897c-34986932237a",
   "metadata": {},
   "outputs": [],
   "source": [
    "# 1) Integers-->(negative and positive numbers, 1,55,60,-10,-95,-1)\n",
    "# 2) String -->(A to Z , a to z , big and smal characters )\n",
    "# 3) Float-->( negative'-') and (positive'+') numvers, (3.55,9.0,55.00,-55.00,-1.2))\n",
    "# 4) Boolen-->( True or False) using only first leter capitel just(T,F)\n",
    "# 5) Non-->(a=none)"
   ]
  },
  {
   "cell_type": "code",
   "execution_count": null,
   "id": "3de18817-dbdd-47fd-95a6-fd4c0c0298cb",
   "metadata": {},
   "outputs": [],
   "source": []
  },
  {
   "cell_type": "markdown",
   "id": "d554bfc4-a2d2-46ba-8596-b35c13aa3e19",
   "metadata": {},
   "source": [
    "Types of operators"
   ]
  },
  {
   "cell_type": "code",
   "execution_count": 24,
   "id": "be897e08-e2f4-43fe-8a06-eac63009a2c8",
   "metadata": {},
   "outputs": [],
   "source": [
    "# 1) Arithmetic operators--> (+,-,*,/,%,**)\n",
    "# 2) relational / comparison operators--> (==,!=,<,>,<=,>=)\n",
    "# 3) assigment operators-->(=,+=,-=,*=,/=,%=,**=)\n",
    "# 4) Logical operators-->(not,and,or)"
   ]
  },
  {
   "cell_type": "code",
   "execution_count": 28,
   "id": "a6ee375a-219f-49c5-af96-ba94c3061665",
   "metadata": {},
   "outputs": [
    {
     "name": "stdout",
     "output_type": "stream",
     "text": [
      "110\n"
     ]
    }
   ],
   "source": [
    "# 1) arithmetic operators--> (+,-,*,/,%,**)\n",
    "\n",
    "a=60\n",
    "b=50\n",
    "f=a+b\n",
    "print(f) "
   ]
  },
  {
   "cell_type": "code",
   "execution_count": 30,
   "id": "0f1c9492-3829-4527-8d4f-61a420c6b40c",
   "metadata": {},
   "outputs": [
    {
     "name": "stdout",
     "output_type": "stream",
     "text": [
      "10\n"
     ]
    }
   ],
   "source": [
    "a=55\n",
    "b=45\n",
    "g=a-b\n",
    "print(g)"
   ]
  },
  {
   "cell_type": "code",
   "execution_count": 32,
   "id": "d24eac8c-3430-4380-bb6d-5a9398fa25cd",
   "metadata": {},
   "outputs": [
    {
     "name": "stdout",
     "output_type": "stream",
     "text": [
      "16.0\n"
     ]
    }
   ],
   "source": [
    "a=80\n",
    "b=5\n",
    "h=a/b\n",
    "print(h)"
   ]
  },
  {
   "cell_type": "code",
   "execution_count": 34,
   "id": "ae6b64eb-9454-4099-902f-286110ff295c",
   "metadata": {},
   "outputs": [
    {
     "name": "stdout",
     "output_type": "stream",
     "text": [
      "300\n"
     ]
    }
   ],
   "source": [
    "a=60\n",
    "b=5\n",
    "j=a*b\n",
    "print(j)"
   ]
  },
  {
   "cell_type": "code",
   "execution_count": null,
   "id": "d4c0ab47-bde6-4ffc-b08f-e68943989c59",
   "metadata": {},
   "outputs": [],
   "source": []
  },
  {
   "cell_type": "code",
   "execution_count": 38,
   "id": "fe5cb41f-2056-4fef-bf30-a8e0d06b1bd2",
   "metadata": {},
   "outputs": [
    {
     "name": "stdout",
     "output_type": "stream",
     "text": [
      "harshal\n",
      "HARSHAL\n",
      "Harshal\n"
     ]
    }
   ],
   "source": [
    "# 2) String -->(A to Z , a to z , big and smal characters )\n",
    "\n",
    "name='harshal'\n",
    "name2='HARSHAL'\n",
    "name3='Harshal'\n",
    "print(name)\n",
    "print(name2)\n",
    "print(name3)"
   ]
  },
  {
   "cell_type": "code",
   "execution_count": null,
   "id": "8a574cbc-f775-4f62-891a-31e721e1dc14",
   "metadata": {},
   "outputs": [],
   "source": []
  },
  {
   "cell_type": "code",
   "execution_count": 58,
   "id": "d5b48cf3-daa1-4315-b93f-6163c56da059",
   "metadata": {},
   "outputs": [
    {
     "name": "stdout",
     "output_type": "stream",
     "text": [
      "50\n"
     ]
    }
   ],
   "source": [
    "# 3) assigment operators-->(=,+=,-=,*=,/=,%=,**=)\n",
    "\n",
    "a=50\n",
    "b=50\n",
    "g=a=b\n",
    "print(g)"
   ]
  },
  {
   "cell_type": "code",
   "execution_count": 70,
   "id": "aa3e3fed-5be8-43ba-aafd-dbd5cf47886b",
   "metadata": {},
   "outputs": [
    {
     "name": "stdout",
     "output_type": "stream",
     "text": [
      "60\n"
     ]
    }
   ],
   "source": [
    "a=50\n",
    "b=60\n",
    "h= a=b\n",
    "print(h)"
   ]
  },
  {
   "cell_type": "code",
   "execution_count": 128,
   "id": "23bf94a8-c1fa-4b0b-8f8e-1f9fd526a55e",
   "metadata": {},
   "outputs": [
    {
     "name": "stdout",
     "output_type": "stream",
     "text": [
      "True\n"
     ]
    }
   ],
   "source": [
    "a=50\n",
    "b=50\n",
    "y= a==b\n",
    "print(y)"
   ]
  },
  {
   "cell_type": "code",
   "execution_count": 126,
   "id": "96010339-aa7e-4689-886b-685bd676c95b",
   "metadata": {},
   "outputs": [
    {
     "name": "stdout",
     "output_type": "stream",
     "text": [
      "2500\n"
     ]
    }
   ],
   "source": [
    "a=50\n",
    "b=2\n",
    "g=a**b\n",
    "print(g)"
   ]
  },
  {
   "cell_type": "code",
   "execution_count": 86,
   "id": "7c38397b-e852-491b-a08a-1d70fbcd850d",
   "metadata": {},
   "outputs": [
    {
     "name": "stdout",
     "output_type": "stream",
     "text": [
      "50 False\n"
     ]
    }
   ],
   "source": [
    "# 4) Logical operators-->(not,and,or)\n",
    "\n",
    "# using a boolen single value\n",
    "a=50\n",
    "b=50\n",
    "print(a,not b)"
   ]
  },
  {
   "cell_type": "code",
   "execution_count": 90,
   "id": "7812a347-343a-4cbd-ade4-19f4d0f89049",
   "metadata": {},
   "outputs": [
    {
     "name": "stdout",
     "output_type": "stream",
     "text": [
      "True\n"
     ]
    }
   ],
   "source": [
    "a=60\n",
    "b=50\n",
    "h=a==b       # you can use (not) operator converting a ( True valu = False ) and (False value = True )\n",
    "print(not h)"
   ]
  },
  {
   "cell_type": "code",
   "execution_count": 92,
   "id": "d4b1fada-ebe1-41bb-9297-f4acc1ef361d",
   "metadata": {},
   "outputs": [
    {
     "name": "stdout",
     "output_type": "stream",
     "text": [
      "False\n"
     ]
    }
   ],
   "source": [
    "a=60\n",
    "b=60\n",
    "h=a==b       # you can use (not) operator converting a ( True valu = False ) and (False value = True )\n",
    "print(not h)"
   ]
  },
  {
   "cell_type": "code",
   "execution_count": null,
   "id": "cd0f4a39-1ab5-460b-99e4-293e3d4cc502",
   "metadata": {},
   "outputs": [],
   "source": []
  },
  {
   "cell_type": "code",
   "execution_count": 102,
   "id": "23536032-7566-4ab3-956a-16b0a609f37b",
   "metadata": {},
   "outputs": [
    {
     "name": "stdout",
     "output_type": "stream",
     "text": [
      "True\n"
     ]
    }
   ],
   "source": [
    "# and operator perform Two value\n",
    "\n",
    "val1=True\n",
    "val2=True           #all answer can be (True,True) final answer also true\n",
    "H= val1==val2\n",
    "print(val1 and val2)"
   ]
  },
  {
   "cell_type": "code",
   "execution_count": null,
   "id": "68bd4e7e-0a2a-40e2-b1d1-001cea9555c1",
   "metadata": {},
   "outputs": [],
   "source": []
  },
  {
   "cell_type": "code",
   "execution_count": 100,
   "id": "64a440f5-b71b-455e-b3ee-bc4e58a835cf",
   "metadata": {},
   "outputs": [
    {
     "name": "stdout",
     "output_type": "stream",
     "text": [
      "False\n"
     ]
    }
   ],
   "source": [
    "# and operator perform Two value\n",
    "\n",
    "val1=False\n",
    "val2=True             # if any one answer can be (False,True) final answer can be False\n",
    "print(val1 and val2)"
   ]
  },
  {
   "cell_type": "code",
   "execution_count": null,
   "id": "f7417612-6c4d-41be-864a-4e56ac0cc5d8",
   "metadata": {},
   "outputs": [],
   "source": []
  },
  {
   "cell_type": "code",
   "execution_count": 106,
   "id": "55604613-35ca-4dbd-a04d-b59682fb8644",
   "metadata": {},
   "outputs": [
    {
     "name": "stdout",
     "output_type": "stream",
     "text": [
      "True\n"
     ]
    }
   ],
   "source": [
    "# or operator perform Two value\n",
    "\n",
    "val1=True \n",
    "val2=True            # any one value True answer give True\n",
    "print(val1 or val2 )\n"
   ]
  },
  {
   "cell_type": "code",
   "execution_count": null,
   "id": "c146a771-bc25-4100-bce6-156d59294f13",
   "metadata": {},
   "outputs": [],
   "source": []
  },
  {
   "cell_type": "code",
   "execution_count": 104,
   "id": "1e252cdb-8f8c-4789-98c4-b3046e6f6aea",
   "metadata": {},
   "outputs": [
    {
     "name": "stdout",
     "output_type": "stream",
     "text": [
      "True\n"
     ]
    }
   ],
   "source": [
    "# or operator perform Two value\n",
    "\n",
    "val1=True \n",
    "val2=False          # any one value True answer give True\n",
    "print(val1 or val2 )\n"
   ]
  },
  {
   "cell_type": "code",
   "execution_count": null,
   "id": "8773ca97-546b-4b1e-b6b0-66003790bd07",
   "metadata": {},
   "outputs": [],
   "source": []
  },
  {
   "cell_type": "code",
   "execution_count": 110,
   "id": "97951dad-396a-4b5f-9729-4c7820ab0621",
   "metadata": {},
   "outputs": [
    {
     "name": "stdout",
     "output_type": "stream",
     "text": [
      "False\n"
     ]
    }
   ],
   "source": [
    "# or operator perform Two value\n",
    "\n",
    "val1=False\n",
    "val2=False           # all value can be False answer also false\n",
    "print(val1 or val2 )\n"
   ]
  },
  {
   "cell_type": "code",
   "execution_count": null,
   "id": "0efef90e-b1b3-4c32-b198-7c464a1e8a8e",
   "metadata": {},
   "outputs": [],
   "source": [
    "\n"
   ]
  },
  {
   "cell_type": "markdown",
   "id": "9ca7a84e-77d8-4960-90f3-a2ccc52f696f",
   "metadata": {},
   "source": [
    "Type conversion and type casting"
   ]
  },
  {
   "cell_type": "code",
   "execution_count": null,
   "id": "157fa96d-73ed-4422-bfc0-9ab2c0e34f5b",
   "metadata": {},
   "outputs": [],
   "source": [
    "# Python automatic (Type conversion)\n",
    "# type casting is a manual"
   ]
  },
  {
   "cell_type": "code",
   "execution_count": 137,
   "id": "522e81c9-831e-4140-90bc-092fef5ee2df",
   "metadata": {},
   "outputs": [
    {
     "name": "stdout",
     "output_type": "stream",
     "text": [
      "55.5\n"
     ]
    }
   ],
   "source": [
    "# Type conversion Example\n",
    "a=50\n",
    "b=5.5\n",
    "print(a+b)\n"
   ]
  },
  {
   "cell_type": "code",
   "execution_count": 135,
   "id": "4811c74c-db7e-417b-8426-cd6e220dac2c",
   "metadata": {},
   "outputs": [
    {
     "name": "stdout",
     "output_type": "stream",
     "text": [
      "275.0\n"
     ]
    }
   ],
   "source": [
    "# Type conversion Example\n",
    "a=50\n",
    "b=5.5\n",
    "print(a*b)\n"
   ]
  },
  {
   "cell_type": "code",
   "execution_count": null,
   "id": "1a13bbf2-cab7-4f93-9973-e8c40f5c51f6",
   "metadata": {},
   "outputs": [],
   "source": []
  },
  {
   "cell_type": "code",
   "execution_count": 139,
   "id": "d338e661-67d2-4bc4-ad4b-ae9d4d97bf75",
   "metadata": {},
   "outputs": [
    {
     "name": "stdout",
     "output_type": "stream",
     "text": [
      "55.05\n"
     ]
    }
   ],
   "source": [
    "# Type conversion Example\n",
    "a=50.05\n",
    "b=5\n",
    "print(a+b)"
   ]
  },
  {
   "cell_type": "code",
   "execution_count": null,
   "id": "c33f05cb-740f-4c1f-90ea-87ad26034822",
   "metadata": {},
   "outputs": [],
   "source": []
  },
  {
   "cell_type": "code",
   "execution_count": 141,
   "id": "68c1fc29-bb19-4f31-8bc7-e7d0d0f640d0",
   "metadata": {},
   "outputs": [
    {
     "name": "stdout",
     "output_type": "stream",
     "text": [
      "55\n"
     ]
    }
   ],
   "source": [
    "# type casting is a manual\n",
    "a=50.05\n",
    "b=5\n",
    "print(int(a+b))"
   ]
  },
  {
   "cell_type": "code",
   "execution_count": 143,
   "id": "83395b49-72dc-4b86-8417-89ebf06b7623",
   "metadata": {},
   "outputs": [
    {
     "name": "stdout",
     "output_type": "stream",
     "text": [
      "250\n"
     ]
    }
   ],
   "source": [
    "# type casting is a manual\n",
    "a=50.05\n",
    "b=5\n",
    "print(int(a*b))"
   ]
  },
  {
   "cell_type": "code",
   "execution_count": null,
   "id": "985392b5-39fd-4453-8a94-e9e849eab694",
   "metadata": {},
   "outputs": [],
   "source": []
  },
  {
   "cell_type": "markdown",
   "id": "cd547fa1-e215-4430-a174-18333e49793e",
   "metadata": {},
   "source": [
    "Input in Python"
   ]
  },
  {
   "cell_type": "code",
   "execution_count": 148,
   "id": "e1e003d6-1b93-4695-8191-cd59cb620c6b",
   "metadata": {},
   "outputs": [],
   "source": [
    "#In Python, the input() function is used to take input from the user during program execution. When called, it pauses the program and waits for the user to type something and press Enter. Whatever the user types is returned as a string.\n"
   ]
  },
  {
   "cell_type": "code",
   "execution_count": 150,
   "id": "c0190ed9-294b-42ff-a2b5-db49efbee824",
   "metadata": {},
   "outputs": [
    {
     "name": "stdin",
     "output_type": "stream",
     "text": [
      "enter your name harshal\n"
     ]
    },
    {
     "data": {
      "text/plain": [
       "'harshal'"
      ]
     },
     "execution_count": 150,
     "metadata": {},
     "output_type": "execute_result"
    }
   ],
   "source": [
    "input('enter your name')"
   ]
  },
  {
   "cell_type": "code",
   "execution_count": 162,
   "id": "3e7f3128-cf59-4fb6-a3f0-7463d0cfe7ed",
   "metadata": {},
   "outputs": [
    {
     "name": "stdin",
     "output_type": "stream",
     "text": [
      "enter your age 22\n"
     ]
    },
    {
     "name": "stdout",
     "output_type": "stream",
     "text": [
      "age 22\n"
     ]
    }
   ],
   "source": [
    "age=input('enter your age')\n",
    "print('age',age)"
   ]
  },
  {
   "cell_type": "code",
   "execution_count": 164,
   "id": "6cc6b5bf-55f5-497b-a6a5-0311e7e2c64c",
   "metadata": {},
   "outputs": [
    {
     "name": "stdin",
     "output_type": "stream",
     "text": [
      "enter your nam  harshal laxman gaikwad\n",
      "Eanter your age 22\n",
      "enter your city name Aurangabad\n",
      "enter your marks 480\n"
     ]
    },
    {
     "name": "stdout",
     "output_type": "stream",
     "text": [
      "Name harshal laxman gaikwad\n",
      "age 22\n",
      "city Aurangabad\n",
      "marks 480\n"
     ]
    }
   ],
   "source": [
    "name=input('enter your nam ')\n",
    "age=input('Eanter your age')\n",
    "city=input('enter your city name')\n",
    "mark=input('enter your marks')\n",
    "\n",
    "print('Name',name)\n",
    "print('age', age)\n",
    "print('city', city)\n",
    "print('marks',mark)"
   ]
  },
  {
   "cell_type": "code",
   "execution_count": null,
   "id": "fea96880-8919-4b9a-b3e9-a89843234668",
   "metadata": {},
   "outputs": [],
   "source": []
  },
  {
   "cell_type": "code",
   "execution_count": 166,
   "id": "ddf9cc2e-fe8a-4b87-8b2e-dc55c9c62073",
   "metadata": {},
   "outputs": [
    {
     "name": "stdin",
     "output_type": "stream",
     "text": [
      "enter your nam  harshal\n",
      "Eanter your age 22\n",
      "enter your city name Aurangabad\n",
      "enter your marks 486\n"
     ]
    },
    {
     "name": "stdout",
     "output_type": "stream",
     "text": [
      "Name harshal\n",
      "age 22\n",
      "city Aurangabad\n",
      "marks 486.0\n"
     ]
    }
   ],
   "source": [
    "# using a int(), and flost()\n",
    "\n",
    "name=input('enter your nam ')\n",
    "age=int(input('Eanter your age'))\n",
    "city=input('enter your city name')\n",
    "mark=float(input('enter your marks'))\n",
    "\n",
    "print('Name',name)\n",
    "print('age', age)\n",
    "print('city', city)\n",
    "print('marks',mark)"
   ]
  },
  {
   "cell_type": "code",
   "execution_count": null,
   "id": "f0381aae-4894-461d-ad32-b26d1bb91698",
   "metadata": {},
   "outputs": [],
   "source": []
  },
  {
   "cell_type": "code",
   "execution_count": 168,
   "id": "08680570-9772-43c3-b2b6-ce9832f840c9",
   "metadata": {},
   "outputs": [
    {
     "name": "stdin",
     "output_type": "stream",
     "text": [
      "enter your nam  harshal\n",
      "Eanter your age 22\n",
      "enter your city name Aurangabad\n",
      "enter your marks 466\n"
     ]
    },
    {
     "name": "stdout",
     "output_type": "stream",
     "text": [
      "Name harshal\n",
      "age 22\n",
      "city Aurangabad\n",
      "marks 466.0\n"
     ]
    }
   ],
   "source": [
    "#  This is a proper input code in python\n",
    "\n",
    "# using a int(), and flost()\n",
    "\n",
    "name=input('enter your nam ')\n",
    "age=int(input('Eanter your age'))\n",
    "city=input('enter your city name')\n",
    "mark=float(input('enter your marks'))\n",
    "\n",
    "print('Name',name)\n",
    "print('age', age)\n",
    "print('city', city)\n",
    "print('marks',mark)"
   ]
  },
  {
   "cell_type": "code",
   "execution_count": null,
   "id": "4a005159-e508-4462-aa80-4e22c1fb402f",
   "metadata": {},
   "outputs": [],
   "source": []
  },
  {
   "cell_type": "code",
   "execution_count": null,
   "id": "bcb2a34c-8b9b-491c-8a2e-d38b6b4243d7",
   "metadata": {},
   "outputs": [],
   "source": []
  },
  {
   "cell_type": "code",
   "execution_count": null,
   "id": "959bbe4f-920a-48bd-bb01-9be5356e490d",
   "metadata": {},
   "outputs": [],
   "source": []
  },
  {
   "cell_type": "code",
   "execution_count": null,
   "id": "b2deafdb-23c2-44a5-a80a-10f27069fc57",
   "metadata": {},
   "outputs": [],
   "source": []
  },
  {
   "cell_type": "code",
   "execution_count": null,
   "id": "aaebccc7-1b5f-4fa8-aeec-82e3fc67060d",
   "metadata": {},
   "outputs": [],
   "source": []
  },
  {
   "cell_type": "code",
   "execution_count": null,
   "id": "293cf2d0-edc7-4971-aca3-73e31a5e4b34",
   "metadata": {},
   "outputs": [],
   "source": []
  },
  {
   "cell_type": "code",
   "execution_count": null,
   "id": "0afd7f4a-b484-46eb-8ec3-5f01eb94128f",
   "metadata": {},
   "outputs": [],
   "source": []
  },
  {
   "cell_type": "code",
   "execution_count": null,
   "id": "c0191794-9b6a-4316-82c4-51c7e00ab366",
   "metadata": {},
   "outputs": [],
   "source": []
  },
  {
   "cell_type": "code",
   "execution_count": null,
   "id": "a35673ec-2bfc-4209-bfff-51af6326e4e2",
   "metadata": {},
   "outputs": [],
   "source": []
  },
  {
   "cell_type": "code",
   "execution_count": null,
   "id": "e5beb667-fbbb-4c3a-a3fd-e98562aa2fdb",
   "metadata": {},
   "outputs": [],
   "source": []
  },
  {
   "cell_type": "code",
   "execution_count": null,
   "id": "6d2304af-871c-4969-bb78-913fe4346fb3",
   "metadata": {},
   "outputs": [],
   "source": []
  },
  {
   "cell_type": "code",
   "execution_count": null,
   "id": "e0457f4a-20a6-4fef-9026-3faeafaaa6c2",
   "metadata": {},
   "outputs": [],
   "source": []
  },
  {
   "cell_type": "code",
   "execution_count": null,
   "id": "8be0406b-9707-40de-a802-ee9cab70d842",
   "metadata": {},
   "outputs": [],
   "source": []
  },
  {
   "cell_type": "code",
   "execution_count": null,
   "id": "1c79b108-f6dd-4598-8b7e-86e2dfc4f893",
   "metadata": {},
   "outputs": [],
   "source": []
  },
  {
   "cell_type": "code",
   "execution_count": null,
   "id": "254d5c02-4736-4222-ac4d-90059971a7d4",
   "metadata": {},
   "outputs": [],
   "source": []
  },
  {
   "cell_type": "code",
   "execution_count": null,
   "id": "6299ad4e-7d4d-40d3-819e-a424d277071b",
   "metadata": {},
   "outputs": [],
   "source": []
  },
  {
   "cell_type": "code",
   "execution_count": null,
   "id": "2fae8795-dfd2-4c20-8275-df0167bfafd7",
   "metadata": {},
   "outputs": [],
   "source": []
  },
  {
   "cell_type": "code",
   "execution_count": null,
   "id": "6153cad6-e373-4ef5-9496-aec71a9e988d",
   "metadata": {},
   "outputs": [],
   "source": []
  },
  {
   "cell_type": "code",
   "execution_count": null,
   "id": "a4ebd903-0701-4de5-8582-e163b06b2fc9",
   "metadata": {},
   "outputs": [],
   "source": []
  },
  {
   "cell_type": "code",
   "execution_count": null,
   "id": "6020ec45-d52e-413c-933b-5dfd63f3465e",
   "metadata": {},
   "outputs": [],
   "source": []
  },
  {
   "cell_type": "code",
   "execution_count": null,
   "id": "d7e52517-fe78-4249-a930-9b785ab2bbf4",
   "metadata": {},
   "outputs": [],
   "source": []
  },
  {
   "cell_type": "code",
   "execution_count": null,
   "id": "c75c28e1-6ffb-4e2b-96f7-49506afb67d3",
   "metadata": {},
   "outputs": [],
   "source": []
  },
  {
   "cell_type": "code",
   "execution_count": null,
   "id": "7e9b350f-60aa-490a-9e77-8de222917274",
   "metadata": {},
   "outputs": [],
   "source": []
  },
  {
   "cell_type": "code",
   "execution_count": null,
   "id": "be284845-3f20-46a2-9a7d-6b359d71b5c0",
   "metadata": {},
   "outputs": [],
   "source": []
  },
  {
   "cell_type": "code",
   "execution_count": null,
   "id": "81930b6c-f783-4371-961c-5417fe46381b",
   "metadata": {},
   "outputs": [],
   "source": []
  }
 ],
 "metadata": {
  "kernelspec": {
   "display_name": "Python 3 (ipykernel)",
   "language": "python",
   "name": "python3"
  },
  "language_info": {
   "codemirror_mode": {
    "name": "ipython",
    "version": 3
   },
   "file_extension": ".py",
   "mimetype": "text/x-python",
   "name": "python",
   "nbconvert_exporter": "python",
   "pygments_lexer": "ipython3",
   "version": "3.11.7"
  }
 },
 "nbformat": 4,
 "nbformat_minor": 5
}
